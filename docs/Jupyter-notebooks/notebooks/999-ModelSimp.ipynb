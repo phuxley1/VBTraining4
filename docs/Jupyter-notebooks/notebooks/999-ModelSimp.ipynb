{
 "cells": [
  {
   "cell_type": "markdown",
   "metadata": {},
   "source": [
    "# Model simplification"
   ]
  },
  {
   "cell_type": "markdown",
   "metadata": {},
   "source": [
    "## Introduction \n",
    "\n",
    "In biology, we often use statistics to compare competing hypotheses in order to work out the simplest explanation for some data. This often involves collecting several explanatory variables that describe different hypotheses and then fitting them together in a single model, and often including interactions between those variables.\n",
    "\n",
    "In all likelihood, not all of these model *terms* will be important. If we remove unimportant terms, then the explanatory power of the model will get worse, but might not get significantly worse.\n",
    "\n",
    "> *\"It can scarcely be denied that the supreme goal of all theory is to make the irreducible basic elements as simple and as few as possible without having to surrender the adequate representation of a single datum of experience.\"* \n",
    ">\n",
    "> &ndash; *Albert Einstein*\n",
    "\n",
    "Or to paraphrase:\n",
    "\n",
    "> *\"Everything should be made as simple as possible, but no simpler.\"*\n",
    "\n",
    "The approach we will look at is to start with a *maximal model* — the model that contains everything that might be important — and simplify it towards the *null model* — the\n",
    "model that says that none of your variables are important. Hopefully, there is a point somewhere in between where you can't remove any further terms without making the model significantly worse: this is called the *minimum adequate model*.\n",
    "\n",
    "![image](./graphics/minmodflow.png)\n",
    "\n",
    "### Chapter aims\n",
    "\n",
    "The main aim of this chapter[$^{[1]}$](#fn1) is to learn how to build and then simplify complex models by removing non-explanatory terms, to arrive at the *Minimum Adequate Model*.\n",
    "\n",
    "### The process of model simplification\n",
    "\n",
    "Model simplification is an iterative process. The flow diagram below shows how it works: at each stage you try and find an acceptable simplification. If successful, then you start again with the new simpler model and try and find a way to simplify this, until eventually, you can't find anything more to remove.\n",
    "\n",
    "![image](./graphics/maxmodflow.png)\n",
    "\n",
    "As always, we can use an $F$-test to compare two models and see if they have significantly different explanatory power (there are also other ways to do this, such as using the Akaike Information Criterion, but we will not cover this here). In this context, the main thing to remember is that significance of the $F$-test used to compare a model and its simplified counterpart is a *bad* thing — it means that we've removed a term from the fitted model that makes it *significantly* worse.\n",
    "\n",
    "## An example \n",
    "\n",
    "We'll be using the mammal dataset for this practical, so once again:\n",
    "\n",
    "$\\star$ Make sure you have changed the working directory to your stats module `code` folder.\n",
    "\n",
    "$\\star$  Create a new blank script called `MyModelSimp.R`.\n",
    "\n",
    "$\\star$  Load the mammals data into a data frame called `mammals`:"
   ]
  },
  {
   "cell_type": "code",
   "execution_count": 1,
   "metadata": {},
   "outputs": [],
   "source": [
    "mammals <- read.csv('../data/MammalData.csv')"
   ]
  },
  {
   "cell_type": "markdown",
   "metadata": {},
   "source": [
    "In previous chapters, we looked at how the categorical variables `GroundDwelling` and `TrophicLevel` predicted genome size in mammals. In this chapter, we will add in two more continuous variables: litter size and body mass. The first thing we will do is to log both variables and reduce the dataset to the rows for which all of these data are available:"
   ]
  },
  {
   "cell_type": "code",
   "execution_count": 2,
   "metadata": {},
   "outputs": [],
   "source": [
    "#get logs of continuous variables\n",
    "mammals$logLS <- log(mammals$LitterSize)\n",
    "mammals$logCvalue <- log(mammals$meanCvalue)\n",
    "mammals$logBM <- log(mammals$AdultBodyMass_g)\n",
    "\n",
    "# reduce dataset to five key variables\n",
    "mammals <- subset(mammals, select = c(logCvalue, logLS, logBM, \n",
    "TrophicLevel, GroundDwelling))\n",
    "\n",
    "# remove the row with missing data\n",
    "mammals <- na.omit(mammals)"
   ]
  },
  {
   "cell_type": "markdown",
   "metadata": {},
   "source": [
    "$\\star$ Copy the code above into your script and run it\n",
    "\n",
    "Check that the data you end up with has this structure:"
   ]
  },
  {
   "cell_type": "code",
   "execution_count": 3,
   "metadata": {
    "scrolled": true
   },
   "outputs": [
    {
     "name": "stdout",
     "output_type": "stream",
     "text": [
      "'data.frame':\t240 obs. of  5 variables:\n",
      " $ logCvalue     : num  0.94 1.322 1.381 1.545 0.888 ...\n",
      " $ logLS         : num  1.1 1.12 0 0 1.52 ...\n",
      " $ logBM         : num  10.83 4.87 11.46 10.86 3.23 ...\n",
      " $ TrophicLevel  : Factor w/ 3 levels \"Carnivore\",\"Herbivore\",..: 1 2 2 2 3 3 3 2 2 3 ...\n",
      " $ GroundDwelling: Factor w/ 2 levels \"No\",\"Yes\": 2 2 2 2 2 1 2 1 1 1 ...\n",
      " - attr(*, \"na.action\")=Class 'omit'  Named int [1:139] 2 4 7 9 10 11 14 15 20 21 ...\n",
      "  .. ..- attr(*, \"names\")= chr [1:139] \"2\" \"4\" \"7\" \"9\" ...\n"
     ]
    }
   ],
   "source": [
    "str(mammals)"
   ]
  },
  {
   "cell_type": "markdown",
   "metadata": {},
   "source": [
    "## A Maximal model\n",
    "\n",
    "First let's fit a model including all of these variables and all of the interactions:"
   ]
  },
  {
   "cell_type": "code",
   "execution_count": 4,
   "metadata": {},
   "outputs": [],
   "source": [
    "model <- lm(formula = logCvalue ~ logLS * logBM * TrophicLevel * GroundDwelling, data = mammals)"
   ]
  },
  {
   "cell_type": "markdown",
   "metadata": {},
   "source": [
    "$\\star$ Add this model-fitting step in your script.\n",
    "\n",
    "$\\star$ Look at the output of `anova(model)` and `summary(model)`.\n",
    "\n",
    "Scared? Don't be! There are a number of points to this exercise:\n",
    "\n",
    "1.  These tables show exactly the kind of output you've seen before. Sure, there are lots of rows but each row is just asking whether a model term (`anova`) or a model coefficient (`summary`) is significant.\n",
    "\n",
    "2.  Some of the rows are significant, others aren't: some of the model terms are not explanatory.\n",
    "\n",
    "3.  The two tables show slightly different things - lots of stars for the `anova` table and only a few for the `summary` table.\n",
    "\n",
    "4.  That last line in the `anova` table: `logLS:logBM:TrophicLevel:GroundDwelling`. This is an interaction of four variables capturing how the slope for litter size changes for different body masses for species in different trophic groups and which are arboreal or ground dwelling. Does this seem easy to understand?\n",
    "\n",
    "The real lesson here is that it is easy to fit complicated models in R.\n",
    "\n",
    "*Understanding and explaining them is a different matter*.\n",
    "\n",
    "The temptation is always to start with the most complex possible model but this is rarely a good idea.\n",
    "\n",
    "## A better maximal model\n",
    "\n",
    "Instead of all possible interactions, we'll consider two-way interactions: how do pairs of variables affect each other?\n",
    "\n",
    "There is a shortcut for this: `y ~ (a + b + c)^2` gets all two way combinations of the variables in the brackets, so is a quicker way of getting this model:\n",
    "\n",
    "`y ~ a + b + c + a:b + a:c + b:c`\n",
    "\n",
    "So let's use this to fit a simpler maximal model:"
   ]
  },
  {
   "cell_type": "code",
   "execution_count": 7,
   "metadata": {},
   "outputs": [],
   "source": [
    "model <- lm(logCvalue ~ (logLS + logBM + TrophicLevel + GroundDwelling)^2, data = mammals)"
   ]
  },
  {
   "cell_type": "markdown",
   "metadata": {},
   "source": [
    "The `anova` table for this model looks like this:"
   ]
  },
  {
   "cell_type": "code",
   "execution_count": 8,
   "metadata": {
    "scrolled": true
   },
   "outputs": [
    {
     "data": {
      "text/html": [
       "<table>\n",
       "<thead><tr><th></th><th scope=col>Df</th><th scope=col>Sum Sq</th><th scope=col>Mean Sq</th><th scope=col>F value</th><th scope=col>Pr(&gt;F)</th></tr></thead>\n",
       "<tbody>\n",
       "\t<tr><th scope=row>logLS</th><td>  1         </td><td>0.98923090  </td><td>0.98923090  </td><td>25.7218583  </td><td>8.238435e-07</td></tr>\n",
       "\t<tr><th scope=row>logBM</th><td>  1         </td><td>3.03170122  </td><td>3.03170122  </td><td>78.8299165  </td><td>2.175874e-16</td></tr>\n",
       "\t<tr><th scope=row>TrophicLevel</th><td>  2         </td><td>0.47787807  </td><td>0.23893904  </td><td> 6.2128630  </td><td>2.364061e-03</td></tr>\n",
       "\t<tr><th scope=row>GroundDwelling</th><td>  1         </td><td>0.11043622  </td><td>0.11043622  </td><td> 2.8715489  </td><td>9.154164e-02</td></tr>\n",
       "\t<tr><th scope=row>logLS:logBM</th><td>  1         </td><td>0.27482000  </td><td>0.27482000  </td><td> 7.1458354  </td><td>8.064321e-03</td></tr>\n",
       "\t<tr><th scope=row>logLS:TrophicLevel</th><td>  2         </td><td>0.19062973  </td><td>0.09531487  </td><td> 2.4783653  </td><td>8.616764e-02</td></tr>\n",
       "\t<tr><th scope=row>logLS:GroundDwelling</th><td>  1         </td><td>0.13645096  </td><td>0.13645096  </td><td> 3.5479808  </td><td>6.090771e-02</td></tr>\n",
       "\t<tr><th scope=row>logBM:TrophicLevel</th><td>  2         </td><td>0.08736291  </td><td>0.04368145  </td><td> 1.1357997  </td><td>3.229995e-01</td></tr>\n",
       "\t<tr><th scope=row>logBM:GroundDwelling</th><td>  1         </td><td>0.88303940  </td><td>0.88303940  </td><td>22.9606803  </td><td>3.002337e-06</td></tr>\n",
       "\t<tr><th scope=row>TrophicLevel:GroundDwelling</th><td>  2         </td><td>0.04461728  </td><td>0.02230864  </td><td> 0.5800664  </td><td>5.606962e-01</td></tr>\n",
       "\t<tr><th scope=row>Residuals</th><td>225         </td><td>8.65322208  </td><td>0.03845876  </td><td>        NA  </td><td>          NA</td></tr>\n",
       "</tbody>\n",
       "</table>\n"
      ],
      "text/latex": [
       "\\begin{tabular}{r|lllll}\n",
       "  & Df & Sum Sq & Mean Sq & F value & Pr(>F)\\\\\n",
       "\\hline\n",
       "\tlogLS &   1          & 0.98923090   & 0.98923090   & 25.7218583   & 8.238435e-07\\\\\n",
       "\tlogBM &   1          & 3.03170122   & 3.03170122   & 78.8299165   & 2.175874e-16\\\\\n",
       "\tTrophicLevel &   2          & 0.47787807   & 0.23893904   &  6.2128630   & 2.364061e-03\\\\\n",
       "\tGroundDwelling &   1          & 0.11043622   & 0.11043622   &  2.8715489   & 9.154164e-02\\\\\n",
       "\tlogLS:logBM &   1          & 0.27482000   & 0.27482000   &  7.1458354   & 8.064321e-03\\\\\n",
       "\tlogLS:TrophicLevel &   2          & 0.19062973   & 0.09531487   &  2.4783653   & 8.616764e-02\\\\\n",
       "\tlogLS:GroundDwelling &   1          & 0.13645096   & 0.13645096   &  3.5479808   & 6.090771e-02\\\\\n",
       "\tlogBM:TrophicLevel &   2          & 0.08736291   & 0.04368145   &  1.1357997   & 3.229995e-01\\\\\n",
       "\tlogBM:GroundDwelling &   1          & 0.88303940   & 0.88303940   & 22.9606803   & 3.002337e-06\\\\\n",
       "\tTrophicLevel:GroundDwelling &   2          & 0.04461728   & 0.02230864   &  0.5800664   & 5.606962e-01\\\\\n",
       "\tResiduals & 225          & 8.65322208   & 0.03845876   &         NA   &           NA\\\\\n",
       "\\end{tabular}\n"
      ],
      "text/markdown": [
       "\n",
       "| <!--/--> | Df | Sum Sq | Mean Sq | F value | Pr(>F) | \n",
       "|---|---|---|---|---|---|---|---|---|---|---|\n",
       "| logLS |   1          | 0.98923090   | 0.98923090   | 25.7218583   | 8.238435e-07 | \n",
       "| logBM |   1          | 3.03170122   | 3.03170122   | 78.8299165   | 2.175874e-16 | \n",
       "| TrophicLevel |   2          | 0.47787807   | 0.23893904   |  6.2128630   | 2.364061e-03 | \n",
       "| GroundDwelling |   1          | 0.11043622   | 0.11043622   |  2.8715489   | 9.154164e-02 | \n",
       "| logLS:logBM |   1          | 0.27482000   | 0.27482000   |  7.1458354   | 8.064321e-03 | \n",
       "| logLS:TrophicLevel |   2          | 0.19062973   | 0.09531487   |  2.4783653   | 8.616764e-02 | \n",
       "| logLS:GroundDwelling |   1          | 0.13645096   | 0.13645096   |  3.5479808   | 6.090771e-02 | \n",
       "| logBM:TrophicLevel |   2          | 0.08736291   | 0.04368145   |  1.1357997   | 3.229995e-01 | \n",
       "| logBM:GroundDwelling |   1          | 0.88303940   | 0.88303940   | 22.9606803   | 3.002337e-06 | \n",
       "| TrophicLevel:GroundDwelling |   2          | 0.04461728   | 0.02230864   |  0.5800664   | 5.606962e-01 | \n",
       "| Residuals | 225          | 8.65322208   | 0.03845876   |         NA   |           NA | \n",
       "\n",
       "\n"
      ],
      "text/plain": [
       "                            Df  Sum Sq     Mean Sq    F value    Pr(>F)      \n",
       "logLS                         1 0.98923090 0.98923090 25.7218583 8.238435e-07\n",
       "logBM                         1 3.03170122 3.03170122 78.8299165 2.175874e-16\n",
       "TrophicLevel                  2 0.47787807 0.23893904  6.2128630 2.364061e-03\n",
       "GroundDwelling                1 0.11043622 0.11043622  2.8715489 9.154164e-02\n",
       "logLS:logBM                   1 0.27482000 0.27482000  7.1458354 8.064321e-03\n",
       "logLS:TrophicLevel            2 0.19062973 0.09531487  2.4783653 8.616764e-02\n",
       "logLS:GroundDwelling          1 0.13645096 0.13645096  3.5479808 6.090771e-02\n",
       "logBM:TrophicLevel            2 0.08736291 0.04368145  1.1357997 3.229995e-01\n",
       "logBM:GroundDwelling          1 0.88303940 0.88303940 22.9606803 3.002337e-06\n",
       "TrophicLevel:GroundDwelling   2 0.04461728 0.02230864  0.5800664 5.606962e-01\n",
       "Residuals                   225 8.65322208 0.03845876         NA           NA"
      ]
     },
     "metadata": {},
     "output_type": "display_data"
    }
   ],
   "source": [
    "anova(model)"
   ]
  },
  {
   "cell_type": "markdown",
   "metadata": {},
   "source": [
    "The first lines are the *main effects*, which are all significant or near significant. Then there are the six interactions. One of these is very significant: `logBM:GroundDwelling`,\n",
    "which suggests that the slope of log C value with body mass differs between ground dwelling and non-ground dwelling species. The other interactions are non-significant although some are close.\n",
    "\n",
    "$\\star$ Run this model in your script.\n",
    "\n",
    "$\\star$ Look at the output of `anova(model)` and `summary(model)`.\n",
    "\n",
    "$\\star$ Generate and inspect the model diagnostic plots.\n",
    "\n",
    "## Model simplification\n",
    "\n",
    "Now let's simplify the model we fitted above. Model simplification is not as straightforward as just dropping terms. Each time you remove a term from a model, the model will change: the model will get worse, since some of the sums of squares are no longer explained, but the remaining variables may partly compensate for this loss of explanatory power. The main point is that if it gets only a little worse, its OK, as the tiny amount of additional variation explained by the term you removed is not really worth it. \n",
    "\n",
    "But how much is \"tiny amount\"? This is what we will learn now by using the $F$-test.   Again, remember: significance of the $F$-test used to compare a model and its simplified counterpart is a *bad* thing — it means that we've removed a term from the fitted model that makes the it *significantly* worse.\n",
    "\n",
    "The first question is: *what terms can you remove from a model*? Obviously, you only want to remove non-significant terms, but there is another rule – you cannot remove a main effect or an interaction while those main effects or interactions are present in a more complex interaction. For example, in the model `y ~ a + b + c + a:b + a:c + b:c`, you cannot drop `c` without dropping both `a:c` and `b:c`.\n",
    "\n",
    "The R function `drop.scope` tells you what you can drop from a model. Some examples:"
   ]
  },
  {
   "cell_type": "code",
   "execution_count": 9,
   "metadata": {},
   "outputs": [
    {
     "data": {
      "text/html": [
       "<ol class=list-inline>\n",
       "\t<li>'logLS:logBM'</li>\n",
       "\t<li>'logLS:TrophicLevel'</li>\n",
       "\t<li>'logLS:GroundDwelling'</li>\n",
       "\t<li>'logBM:TrophicLevel'</li>\n",
       "\t<li>'logBM:GroundDwelling'</li>\n",
       "\t<li>'TrophicLevel:GroundDwelling'</li>\n",
       "</ol>\n"
      ],
      "text/latex": [
       "\\begin{enumerate*}\n",
       "\\item 'logLS:logBM'\n",
       "\\item 'logLS:TrophicLevel'\n",
       "\\item 'logLS:GroundDwelling'\n",
       "\\item 'logBM:TrophicLevel'\n",
       "\\item 'logBM:GroundDwelling'\n",
       "\\item 'TrophicLevel:GroundDwelling'\n",
       "\\end{enumerate*}\n"
      ],
      "text/markdown": [
       "1. 'logLS:logBM'\n",
       "2. 'logLS:TrophicLevel'\n",
       "3. 'logLS:GroundDwelling'\n",
       "4. 'logBM:TrophicLevel'\n",
       "5. 'logBM:GroundDwelling'\n",
       "6. 'TrophicLevel:GroundDwelling'\n",
       "\n",
       "\n"
      ],
      "text/plain": [
       "[1] \"logLS:logBM\"                 \"logLS:TrophicLevel\"         \n",
       "[3] \"logLS:GroundDwelling\"        \"logBM:TrophicLevel\"         \n",
       "[5] \"logBM:GroundDwelling\"        \"TrophicLevel:GroundDwelling\""
      ]
     },
     "metadata": {},
     "output_type": "display_data"
    }
   ],
   "source": [
    "drop.scope(model)"
   ]
  },
  {
   "cell_type": "code",
   "execution_count": 10,
   "metadata": {},
   "outputs": [
    {
     "data": {
      "text/html": [
       "<ol class=list-inline>\n",
       "\t<li>'c'</li>\n",
       "\t<li>'a:b'</li>\n",
       "</ol>\n"
      ],
      "text/latex": [
       "\\begin{enumerate*}\n",
       "\\item 'c'\n",
       "\\item 'a:b'\n",
       "\\end{enumerate*}\n"
      ],
      "text/markdown": [
       "1. 'c'\n",
       "2. 'a:b'\n",
       "\n",
       "\n"
      ],
      "text/plain": [
       "[1] \"c\"   \"a:b\""
      ]
     },
     "metadata": {},
     "output_type": "display_data"
    }
   ],
   "source": [
    "drop.scope(y ~ a + b + c + a:b)"
   ]
  },
  {
   "cell_type": "code",
   "execution_count": 11,
   "metadata": {},
   "outputs": [
    {
     "data": {
      "text/html": [
       "'a:b:c'"
      ],
      "text/latex": [
       "'a:b:c'"
      ],
      "text/markdown": [
       "'a:b:c'"
      ],
      "text/plain": [
       "[1] \"a:b:c\""
      ]
     },
     "metadata": {},
     "output_type": "display_data"
    }
   ],
   "source": [
    "drop.scope(y ~ a + b + c + a:b + b:c + a:b:c)"
   ]
  },
  {
   "cell_type": "markdown",
   "metadata": {},
   "source": [
    "The last thing we need to do is work out how to remove a term from a model. We could type out the model again, but there is a shortcut using the function `update`:"
   ]
  },
  {
   "cell_type": "code",
   "execution_count": 13,
   "metadata": {},
   "outputs": [
    {
     "data": {
      "text/plain": [
       "y ~ a + b + c"
      ]
     },
     "metadata": {},
     "output_type": "display_data"
    }
   ],
   "source": [
    "# a simple model\n",
    "f <- y ~ a + b + c + b:c\n",
    "\n",
    "# remove b:c from the current model\n",
    "update(f, . ~ . - b:c)"
   ]
  },
  {
   "cell_type": "code",
   "execution_count": 14,
   "metadata": {},
   "outputs": [
    {
     "data": {
      "text/plain": [
       "g ~ a + b + c + b:c"
      ]
     },
     "metadata": {},
     "output_type": "display_data"
    }
   ],
   "source": [
    "# model g as a response using the same explanatory variables.\n",
    "update(f, g ~ .)"
   ]
  },
  {
   "cell_type": "markdown",
   "metadata": {},
   "source": [
    "Yes, the syntax is weird. The function uses a model or a formula and then allows you to alter the current formula. The dots in the code `. ~ . ` mean 'use whatever is currently in the response or explanatory variables'. It gives a simple way of changing a model.\n",
    "\n",
    "Now that you have learned the syntax, let's try model simplification with the mammals dataset. \n",
    "\n",
    "From the above `anova` and `drop.scope` output, we know that the interaction `TrophicLevel:GroundDwelling` is not significant and a valid term. So, let's remove this term:"
   ]
  },
  {
   "cell_type": "code",
   "execution_count": 17,
   "metadata": {},
   "outputs": [],
   "source": [
    "model2 <- update(model, . ~ . - TrophicLevel:GroundDwelling)"
   ]
  },
  {
   "cell_type": "markdown",
   "metadata": {},
   "source": [
    "And now use ANOVA to compare the two models:"
   ]
  },
  {
   "cell_type": "code",
   "execution_count": 18,
   "metadata": {},
   "outputs": [
    {
     "data": {
      "text/html": [
       "<table>\n",
       "<thead><tr><th scope=col>Res.Df</th><th scope=col>RSS</th><th scope=col>Df</th><th scope=col>Sum of Sq</th><th scope=col>F</th><th scope=col>Pr(&gt;F)</th></tr></thead>\n",
       "<tbody>\n",
       "\t<tr><td>225        </td><td>8.653222   </td><td>NA         </td><td>         NA</td><td>       NA  </td><td>       NA  </td></tr>\n",
       "\t<tr><td>227        </td><td>8.697839   </td><td>-2         </td><td>-0.04461728</td><td>0.5800664  </td><td>0.5606962  </td></tr>\n",
       "</tbody>\n",
       "</table>\n"
      ],
      "text/latex": [
       "\\begin{tabular}{r|llllll}\n",
       " Res.Df & RSS & Df & Sum of Sq & F & Pr(>F)\\\\\n",
       "\\hline\n",
       "\t 225         & 8.653222    & NA          &          NA &        NA   &        NA  \\\\\n",
       "\t 227         & 8.697839    & -2          & -0.04461728 & 0.5800664   & 0.5606962  \\\\\n",
       "\\end{tabular}\n"
      ],
      "text/markdown": [
       "\n",
       "Res.Df | RSS | Df | Sum of Sq | F | Pr(>F) | \n",
       "|---|---|\n",
       "| 225         | 8.653222    | NA          |          NA |        NA   |        NA   | \n",
       "| 227         | 8.697839    | -2          | -0.04461728 | 0.5800664   | 0.5606962   | \n",
       "\n",
       "\n"
      ],
      "text/plain": [
       "  Res.Df RSS      Df Sum of Sq   F         Pr(>F)   \n",
       "1 225    8.653222 NA          NA        NA        NA\n",
       "2 227    8.697839 -2 -0.04461728 0.5800664 0.5606962"
      ]
     },
     "metadata": {},
     "output_type": "display_data"
    }
   ],
   "source": [
    "anova(model, model2)"
   ]
  },
  {
   "cell_type": "markdown",
   "metadata": {},
   "source": [
    "This tells us that `model2` is *not* significantly worse than `model`. That is, dropping that one interaction term did not result in much of a loss of predictability. \n",
    "\n",
    "Now let's look at this simplified model and see what else can be removed:"
   ]
  },
  {
   "cell_type": "code",
   "execution_count": 19,
   "metadata": {
    "scrolled": true
   },
   "outputs": [
    {
     "data": {
      "text/html": [
       "<table>\n",
       "<thead><tr><th></th><th scope=col>Df</th><th scope=col>Sum Sq</th><th scope=col>Mean Sq</th><th scope=col>F value</th><th scope=col>Pr(&gt;F)</th></tr></thead>\n",
       "<tbody>\n",
       "\t<tr><th scope=row>logLS</th><td>  1         </td><td>0.98923090  </td><td>0.98923090  </td><td>25.817379   </td><td>7.832839e-07</td></tr>\n",
       "\t<tr><th scope=row>logBM</th><td>  1         </td><td>3.03170122  </td><td>3.03170122  </td><td>79.122659   </td><td>1.869660e-16</td></tr>\n",
       "\t<tr><th scope=row>TrophicLevel</th><td>  2         </td><td>0.47787807  </td><td>0.23893904  </td><td> 6.235935   </td><td>2.309662e-03</td></tr>\n",
       "\t<tr><th scope=row>GroundDwelling</th><td>  1         </td><td>0.11043622  </td><td>0.11043622  </td><td> 2.882213   </td><td>9.093329e-02</td></tr>\n",
       "\t<tr><th scope=row>logLS:logBM</th><td>  1         </td><td>0.27482000  </td><td>0.27482000  </td><td> 7.172372   </td><td>7.944702e-03</td></tr>\n",
       "\t<tr><th scope=row>logLS:TrophicLevel</th><td>  2         </td><td>0.19062973  </td><td>0.09531487  </td><td> 2.487569   </td><td>8.537509e-02</td></tr>\n",
       "\t<tr><th scope=row>logLS:GroundDwelling</th><td>  1         </td><td>0.13645096  </td><td>0.13645096  </td><td> 3.561157   </td><td>6.042258e-02</td></tr>\n",
       "\t<tr><th scope=row>logBM:TrophicLevel</th><td>  2         </td><td>0.08736291  </td><td>0.04368145  </td><td> 1.140018   </td><td>3.216374e-01</td></tr>\n",
       "\t<tr><th scope=row>logBM:GroundDwelling</th><td>  1         </td><td>0.88303940  </td><td>0.88303940  </td><td>23.045947   </td><td>2.869667e-06</td></tr>\n",
       "\t<tr><th scope=row>Residuals</th><td>227         </td><td>8.69783936  </td><td>0.03831647  </td><td>       NA   </td><td>          NA</td></tr>\n",
       "</tbody>\n",
       "</table>\n"
      ],
      "text/latex": [
       "\\begin{tabular}{r|lllll}\n",
       "  & Df & Sum Sq & Mean Sq & F value & Pr(>F)\\\\\n",
       "\\hline\n",
       "\tlogLS &   1          & 0.98923090   & 0.98923090   & 25.817379    & 7.832839e-07\\\\\n",
       "\tlogBM &   1          & 3.03170122   & 3.03170122   & 79.122659    & 1.869660e-16\\\\\n",
       "\tTrophicLevel &   2          & 0.47787807   & 0.23893904   &  6.235935    & 2.309662e-03\\\\\n",
       "\tGroundDwelling &   1          & 0.11043622   & 0.11043622   &  2.882213    & 9.093329e-02\\\\\n",
       "\tlogLS:logBM &   1          & 0.27482000   & 0.27482000   &  7.172372    & 7.944702e-03\\\\\n",
       "\tlogLS:TrophicLevel &   2          & 0.19062973   & 0.09531487   &  2.487569    & 8.537509e-02\\\\\n",
       "\tlogLS:GroundDwelling &   1          & 0.13645096   & 0.13645096   &  3.561157    & 6.042258e-02\\\\\n",
       "\tlogBM:TrophicLevel &   2          & 0.08736291   & 0.04368145   &  1.140018    & 3.216374e-01\\\\\n",
       "\tlogBM:GroundDwelling &   1          & 0.88303940   & 0.88303940   & 23.045947    & 2.869667e-06\\\\\n",
       "\tResiduals & 227          & 8.69783936   & 0.03831647   &        NA    &           NA\\\\\n",
       "\\end{tabular}\n"
      ],
      "text/markdown": [
       "\n",
       "| <!--/--> | Df | Sum Sq | Mean Sq | F value | Pr(>F) | \n",
       "|---|---|---|---|---|---|---|---|---|---|\n",
       "| logLS |   1          | 0.98923090   | 0.98923090   | 25.817379    | 7.832839e-07 | \n",
       "| logBM |   1          | 3.03170122   | 3.03170122   | 79.122659    | 1.869660e-16 | \n",
       "| TrophicLevel |   2          | 0.47787807   | 0.23893904   |  6.235935    | 2.309662e-03 | \n",
       "| GroundDwelling |   1          | 0.11043622   | 0.11043622   |  2.882213    | 9.093329e-02 | \n",
       "| logLS:logBM |   1          | 0.27482000   | 0.27482000   |  7.172372    | 7.944702e-03 | \n",
       "| logLS:TrophicLevel |   2          | 0.19062973   | 0.09531487   |  2.487569    | 8.537509e-02 | \n",
       "| logLS:GroundDwelling |   1          | 0.13645096   | 0.13645096   |  3.561157    | 6.042258e-02 | \n",
       "| logBM:TrophicLevel |   2          | 0.08736291   | 0.04368145   |  1.140018    | 3.216374e-01 | \n",
       "| logBM:GroundDwelling |   1          | 0.88303940   | 0.88303940   | 23.045947    | 2.869667e-06 | \n",
       "| Residuals | 227          | 8.69783936   | 0.03831647   |        NA    |           NA | \n",
       "\n",
       "\n"
      ],
      "text/plain": [
       "                     Df  Sum Sq     Mean Sq    F value   Pr(>F)      \n",
       "logLS                  1 0.98923090 0.98923090 25.817379 7.832839e-07\n",
       "logBM                  1 3.03170122 3.03170122 79.122659 1.869660e-16\n",
       "TrophicLevel           2 0.47787807 0.23893904  6.235935 2.309662e-03\n",
       "GroundDwelling         1 0.11043622 0.11043622  2.882213 9.093329e-02\n",
       "logLS:logBM            1 0.27482000 0.27482000  7.172372 7.944702e-03\n",
       "logLS:TrophicLevel     2 0.19062973 0.09531487  2.487569 8.537509e-02\n",
       "logLS:GroundDwelling   1 0.13645096 0.13645096  3.561157 6.042258e-02\n",
       "logBM:TrophicLevel     2 0.08736291 0.04368145  1.140018 3.216374e-01\n",
       "logBM:GroundDwelling   1 0.88303940 0.88303940 23.045947 2.869667e-06\n",
       "Residuals            227 8.69783936 0.03831647        NA           NA"
      ]
     },
     "metadata": {},
     "output_type": "display_data"
    }
   ],
   "source": [
    "anova(model2)"
   ]
  },
  {
   "cell_type": "code",
   "execution_count": 20,
   "metadata": {},
   "outputs": [
    {
     "data": {
      "text/html": [
       "<ol class=list-inline>\n",
       "\t<li>'logLS:logBM'</li>\n",
       "\t<li>'logLS:TrophicLevel'</li>\n",
       "\t<li>'logLS:GroundDwelling'</li>\n",
       "\t<li>'logBM:TrophicLevel'</li>\n",
       "\t<li>'logBM:GroundDwelling'</li>\n",
       "</ol>\n"
      ],
      "text/latex": [
       "\\begin{enumerate*}\n",
       "\\item 'logLS:logBM'\n",
       "\\item 'logLS:TrophicLevel'\n",
       "\\item 'logLS:GroundDwelling'\n",
       "\\item 'logBM:TrophicLevel'\n",
       "\\item 'logBM:GroundDwelling'\n",
       "\\end{enumerate*}\n"
      ],
      "text/markdown": [
       "1. 'logLS:logBM'\n",
       "2. 'logLS:TrophicLevel'\n",
       "3. 'logLS:GroundDwelling'\n",
       "4. 'logBM:TrophicLevel'\n",
       "5. 'logBM:GroundDwelling'\n",
       "\n",
       "\n"
      ],
      "text/plain": [
       "[1] \"logLS:logBM\"          \"logLS:TrophicLevel\"   \"logLS:GroundDwelling\"\n",
       "[4] \"logBM:TrophicLevel\"   \"logBM:GroundDwelling\""
      ]
     },
     "metadata": {},
     "output_type": "display_data"
    }
   ],
   "source": [
    "drop.scope(model2)"
   ]
  },
  {
   "cell_type": "markdown",
   "metadata": {},
   "source": [
    "$\\star$ Add this first simplification to your script and re-run it.\n",
    "\n",
    "$\\star$  Look at the output above and decide what is the next possible term to delete\n",
    "\n",
    "$\\star$ Using the code above as a model, create `model3` as the next simplification. (remember to use `model2` in your `update` call and not `model`).\n",
    "\n",
    "## Exercise\n",
    "\n",
    "Now for a more difficult exercise: \n",
    "\n",
    "$\\star$ Using the code above to guide you, try and find a minimal adequate model that you are happy with. In each step, the output of `anova(model, modelN)` should be non-significant (where $N$ is the current step).\n",
    "\n",
    "It can be important to consider both `anova` and `summary` tables. It can be worth trying to remove things that look significant in one table but not the other — some terms can explain significant variation on the `anova` table but the coefficients are not significant.\n",
    "\n",
    "Remember to remove *terms*: with categorical variables, several coefficients in the `summary` table may come from one term in the model and have to be removed together.\n",
    "\n",
    "When you have got your final model, save the model as an R data file: `save(modelN, file='myFinalModel.Rda')`.\n",
    "\n",
    "-----\n",
    "\n",
    "<a id=\"fn1\"></a>\n",
    "[1]: Here you work with the script file `ModelSimp.R`"
   ]
  }
 ],
 "metadata": {
  "celltoolbar": "Edit Metadata",
  "kernelspec": {
   "display_name": "R",
   "language": "R",
   "name": "ir"
  },
  "language_info": {
   "codemirror_mode": "r",
   "file_extension": ".r",
   "mimetype": "text/x-r-source",
   "name": "R",
   "pygments_lexer": "r",
   "version": "3.6.3"
  },
  "latex_envs": {
   "LaTeX_envs_menu_present": true,
   "autoclose": false,
   "autocomplete": false,
   "bibliofile": "biblio.bib",
   "cite_by": "apalike",
   "current_citInitial": 1,
   "eqLabelWithNumbers": true,
   "eqNumInitial": 1,
   "hotkeys": {
    "equation": "Ctrl-E",
    "itemize": "Ctrl-I"
   },
   "labels_anchors": false,
   "latex_user_defs": false,
   "report_style_numbering": false,
   "user_envs_cfg": false
  },
  "toc": {
   "base_numbering": 1,
   "nav_menu": {},
   "number_sections": true,
   "sideBar": false,
   "skip_h1_title": false,
   "title_cell": "Contents",
   "title_sidebar": "Contents",
   "toc_cell": false,
   "toc_position": {},
   "toc_section_display": false,
   "toc_window_display": false
  }
 },
 "nbformat": 4,
 "nbformat_minor": 4
}
