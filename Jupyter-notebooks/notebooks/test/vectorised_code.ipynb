{
 "cells": [
  {
   "cell_type": "markdown",
   "metadata": {
    "toc": true
   },
   "source": [
    "<h1>Contents<span class=\"tocSkip\"></span></h1>\n",
    "<div class=\"toc\"><ul class=\"toc-item\"><li><span><a href=\"#Vectorised-code---what-and-why?\" data-toc-modified-id=\"Vectorised-code---what-and-why?-1\"><span class=\"toc-item-num\">1&nbsp;&nbsp;</span>Vectorised code - what and why?</a></span><ul class=\"toc-item\"><li><span><a href=\"#Example-1:-Vectorising-a-simple-calculation-of-2-arrays\" data-toc-modified-id=\"Example-1:-Vectorising-a-simple-calculation-of-2-arrays-1.1\"><span class=\"toc-item-num\">1.1&nbsp;&nbsp;</span>Example 1: Vectorising a simple calculation of 2 arrays</a></span></li><li><span><a href=\"#Example-2:-A-Resource-Consumer-model-of-Bacterial-Carbon-Uptake\" data-toc-modified-id=\"Example-2:-A-Resource-Consumer-model-of-Bacterial-Carbon-Uptake-1.2\"><span class=\"toc-item-num\">1.2&nbsp;&nbsp;</span>Example 2: A Resource-Consumer model of Bacterial Carbon Uptake</a></span><ul class=\"toc-item\"><li><span><a href=\"#Consumer-growth-rate:\" data-toc-modified-id=\"Consumer-growth-rate:-1.2.1\"><span class=\"toc-item-num\">1.2.1&nbsp;&nbsp;</span>Consumer growth rate:</a></span></li><li><span><a href=\"#Resource-availability:\" data-toc-modified-id=\"Resource-availability:-1.2.2\"><span class=\"toc-item-num\">1.2.2&nbsp;&nbsp;</span>Resource availability:</a></span></li><li><span><a href=\"#Loop-and-vector-forms-of-these-equations:\" data-toc-modified-id=\"Loop-and-vector-forms-of-these-equations:-1.2.3\"><span class=\"toc-item-num\">1.2.3&nbsp;&nbsp;</span>Loop and vector forms of these equations:</a></span></li><li><span><a href=\"#Comparing-the-loop-and-vectorised-models:\" data-toc-modified-id=\"Comparing-the-loop-and-vectorised-models:-1.2.4\"><span class=\"toc-item-num\">1.2.4&nbsp;&nbsp;</span>Comparing the loop and vectorised models:</a></span></li></ul></li><li><span><a href=\"#WARNING:-THIS-WILL-TAKE-TIME.\" data-toc-modified-id=\"WARNING:-THIS-WILL-TAKE-TIME.-1.3\"><span class=\"toc-item-num\">1.3&nbsp;&nbsp;</span>WARNING: THIS WILL TAKE TIME.</a></span></li></ul></li><li><span><a href=\"#When-to-vectorise?\" data-toc-modified-id=\"When-to-vectorise?-2\"><span class=\"toc-item-num\">2&nbsp;&nbsp;</span>When to vectorise?</a></span><ul class=\"toc-item\"><li><span><a href=\"#&quot;No-free-lunch!&quot;\" data-toc-modified-id=\"&quot;No-free-lunch!&quot;-2.1\"><span class=\"toc-item-num\">2.1&nbsp;&nbsp;</span>\"No free lunch!\"</a></span></li><li><span><a href=\"#When-can-you-vectorise?\" data-toc-modified-id=\"When-can-you-vectorise?-2.2\"><span class=\"toc-item-num\">2.2&nbsp;&nbsp;</span>When <em>can</em> you vectorise?</a></span></li></ul></li></ul></div>"
   ]
  },
  {
   "cell_type": "markdown",
   "metadata": {},
   "source": [
    "# Vectorised code - what and why?"
   ]
  },
  {
   "cell_type": "markdown",
   "metadata": {},
   "source": [
    "We have now had fairly extensive practise in iteratively creating solutions to problems using for loops. Thus far all our problems have been mathematically quite straightforward, and not very computationally intensive. As you begin to move on from your taught modules and into current research, you may find yourselves solving larger and more complex problems, at which point you will start to discover that for-loops have a fundamental weakness - speed!\n",
    "\n",
    "In a nutshell, there are two issues keeping loops slow:\n",
    "\n",
    "1. Producing solutions to a large problem one loop iteration at a time means that our scripts and functions spend a lot of time doing stuff other than actually solving the problem we want them to solve - e.g. shuffling data around between variables in each loop iteration, or storing the result of the current loop's calculations in a (sometimes temporary) variable.\n",
    "\n",
    "2. Loops (at least in Python) are not generally able to take advantage of the parallel computing capabilities of modern-day computers, and thus must literally compute a solution one loop iteration at a time. Vectorised functions tend to be optimised to spread their computations over multiple processors/threads, which can be much faster!\n",
    "\n",
    "These issues become especially pronounced in the case of nested loops - which often appear in more spatially-explicit problems or time-dependent ones.\n",
    "\n",
    "Rather than expecting you to simply take my word for it, the following two examples will showcase the difference in runtime between a loop method and a vectorised method using numpy. The first is a relatively simple (if artificial) problem, intended to demonstrate basically at-a-glace the difference between the two approaches. The second is taken from current research on metabolic models of bacterial communities<sup>[2]</sup>.\n",
    "\n",
    "[1] see the `multiprocessing` package for one way around this!\n",
    "\n",
    "[2] thanks to Emma Cavan (https://www.imperial.ac.uk/people/e.cavan/research.html) in Samraat's lab for bringing this model to my attention.\n",
    "\n",
    "## Example 1: Vectorising a simple calculation of 2 arrays\n",
    "\n",
    "Let us imagine we have two simple 1D arrays $a = (a_1, a_2, ... , a_N)$ and $b = (b_1, b_2, ... ,b_N)$, each of length N, and that we want to calculate a new array $c$ in which each entry is just the product of the two corresponding entries in $a$ and $b$:\n",
    "\n",
    "$$c = (a_1 \\times b_1, a_2 \\times b_2, ... , a_N \\times b_N)$$\n",
    "\n",
    "This operation is called the *entrywise* product of $a$ and $b$.\n",
    "\n",
    "Below are a loop-based function and a vectorised function to calculate the entrywise product of two 1D arrays of the same length. We will test them both on larger and larger 1D arrays to see how the vectorised approach is faster."
   ]
  },
  {
   "cell_type": "code",
   "execution_count": 1,
   "metadata": {},
   "outputs": [],
   "source": [
    "import numpy as np\n",
    "import matplotlib.pyplot as plt"
   ]
  },
  {
   "cell_type": "code",
   "execution_count": 2,
   "metadata": {},
   "outputs": [],
   "source": [
    "def loop_product(a, b):\n",
    "    N = len(a)\n",
    "    c = np.zeros(N)\n",
    "    for i in range(N):\n",
    "        c[i] = a[i] * b[i]   \n",
    "    return c\n",
    "\n",
    "\n",
    "def vect_product(a, b):\n",
    "    return np.multiply(a, b)"
   ]
  },
  {
   "cell_type": "markdown",
   "metadata": {},
   "source": [
    "The `multiply` function from numpy is a vectorised implementation of the elementwise product that we have explicitly written in the function `loop_product` above it. In general, numpy is an excellent choice for vectorised implementations of functions involving matrix maths (or maths using higher-dimensional analogues of matricies).\n",
    "\n",
    "Let's try comparing the runtimes of `loop_product` and `vect_product` on increasingly large randomly-generated 1D arrays:"
   ]
  },
  {
   "cell_type": "code",
   "execution_count": 3,
   "metadata": {},
   "outputs": [
    {
     "name": "stdout",
     "output_type": "stream",
     "text": [
      "\n",
      "Set N=1\n",
      "Loop method took 0 ms on average.\n",
      "Vectorised method took 0 ms on average.\n",
      "\n",
      "Set N=100\n",
      "Loop method took 0 ms on average.\n",
      "Vectorised method took 0 ms on average.\n",
      "\n",
      "Set N=10000\n",
      "Loop method took 11 ms on average.\n",
      "Vectorised method took 0 ms on average.\n",
      "\n",
      "Set N=1000000\n",
      "Loop method took 876 ms on average.\n",
      "Vectorised method took 5 ms on average.\n",
      "\n",
      "Set N=10000000\n",
      "Loop method took 8581 ms on average.\n",
      "Vectorised method took 118 ms on average.\n"
     ]
    },
    {
     "data": {
      "image/png": "[encoded data removed]",
      "text/plain": [
       "<matplotlib.figure.Figure at 0x7f0a81c447b8>"
      ]
     },
     "metadata": {},
     "output_type": "display_data"
    }
   ],
   "source": [
    "import timeit\n",
    "\n",
    "array_lengths = [1, 100, 10000, 1000000, 10000000]\n",
    "t_loop = []\n",
    "t_vect = []\n",
    "\n",
    "for N in array_lengths:\n",
    "    print(\"\\nSet N=%d\" %N)\n",
    "    #randomly generate our 1D arrays of length N\n",
    "    a = np.random.rand(N)\n",
    "    b = np.random.rand(N)\n",
    "    \n",
    "    # time loop_product 3 times and save the mean execution time.\n",
    "    timer = timeit.repeat('loop_product(a, b)', globals=globals().copy(), number=3)\n",
    "    t_loop.append(1000 * np.mean(timer))\n",
    "    print(\"Loop method took %d ms on average.\" %t_loop[-1])\n",
    "    \n",
    "    # time vect_product 3 times and save the mean execution time.\n",
    "    timer = timeit.repeat('vect_product(a, b)', globals=globals().copy(), number=3)\n",
    "    t_vect.append(1000 * np.mean(timer))\n",
    "    print(\"Vectorised method took %d ms on average.\" %t_vect[-1])\n",
    "\n",
    "    \n",
    "    \n",
    "# compare the timings in a plot\n",
    "plt.figure()\n",
    "plt.plot(array_lengths, t_loop, label=\"loop method\")\n",
    "plt.plot(array_lengths, t_vect, label=\"vect method\")\n",
    "plt.xlabel(\"Array length\")\n",
    "plt.ylabel(\"Execution time (ms)\")\n",
    "plt.legend()\n",
    "plt.show()\n"
   ]
  },
  {
   "cell_type": "markdown",
   "metadata": {},
   "source": [
    "## Example 2: A Resource-Consumer model of Bacterial Carbon Uptake\n",
    "\n",
    "The above example clearly shows that some operations can be vastly accelerated with vectorised code - but you aren't going to spend your research projects computing the elementwise products of absurdly long 1D arrays. This example will show how the vectorised approach is applicable to biologically relevant problems and real, ongoing research.\n",
    "\n",
    "Do not worry too much about the equations themselves, the \n",
    "\n",
    "Imagine we have $N$ different bacterial species (our consumers) in an environment consisting of $M$ carbon sources (our resources). \n",
    "\n",
    "### Consumer growth rate:\n",
    "\n",
    "In reality, each species will uptake carbon from the different sources at different rates, as well as respiring and losing carbon to the environment at different rates. This yields a complex relationship between overall per-species growth rate and resource availability, which we can describe with:\n",
    "\n",
    "\\begin{align}\n",
    "    \\frac{1}{C_i}\\frac{dC_i}{dt} = (\\sum_{j=1}^M u_{ij} S_j  (1 - {p_{R}}_j - \\sum_{k=1}^{M} l_{jk})) - R_{i}\n",
    "\\end{align}\n",
    "\n",
    "where:\n",
    "\n",
    "* $C = $ vector of bacterial populations\n",
    "* $S = $ vector of carbon output from different sources,\n",
    "* $u = $ matrix of carbon-uptake rates for each species and carbon source,\n",
    "* $p_R = $ vector of respiratory carbon loss,\n",
    "* $l = $ matrix of non-respiratory carbon loss,\n",
    "* $R = $ vector of maintenance cost of growth.\n",
    "\n",
    "### Resource availability:\n",
    "\n",
    "The change in carbon resource avaliblity can be attributed either to abiotic processes (which we represent here through the constant term $\\rho_j$) or through the activity of the bacterial community which takes up resource $j$ at the rate $U_j$ and releases it (via the inefficency of uptake) through the $L_j$ term:\n",
    "\n",
    "\\begin{align}\n",
    "    \\frac{dS_j}{dt} = \\rho_j - U_j + L_j\n",
    "\\end{align}\n",
    "\n",
    "How do the vectors $U_j$ and $L_j$ relate to the matricies $u$ and $l$ above? We can get the rates of uptake and release by the community by summing across all $N$ species in the community and across all $M$ resources which they release as a result of the $L_j$ term:\n",
    "\n",
    "\\begin{align}\n",
    "    \\frac{dS_j}{dt} = \\rho_j - \n",
    "                      \\sum_{i = 1}^{N} \\left( S_j C_i u_{ij}  - \\sum_{k = 1}^{N} C_i S_k u_{ik} l_{kj} \\right),\n",
    "\\end{align}\n",
    "\n",
    "where:\n",
    "* $\\rho =$ constant vector of carbon resource change due to abiotic processes,\n",
    "* $C, S, u, l$ are the same as above."
   ]
  },
  {
   "cell_type": "markdown",
   "metadata": {},
   "source": [
    "\\begin{align}\n",
    "    \\frac{1}{C_i}\\frac{dC_i}{dt} = (\\sum_{j=1}^M u_{ij} S_j  (1 - {p_{R}}_j - \\sum_{k=1}^{M} l_{jk})) - R_{i}\n",
    "\\end{align}\n",
    "\\begin{align}\n",
    "    \\frac{dS_j}{dt} = \\rho_j - \n",
    "                      \\sum_{i = 1}^{N} \\left( S_j C_i u_{ij}  - \\sum_{k = 1}^{N} C_i S_k u_{ik} l_{kj} \\right),\n",
    "\\end{align}"
   ]
  },
  {
   "cell_type": "markdown",
   "metadata": {},
   "source": [
    "### Loop and vector forms of these equations:\n",
    "\n",
    "Since $\\frac{dC_i}{dt}$ and $\\frac{dS_j}{dt}$ are defined individually for each consumer $i$ and each resource $j$, and since they consist simply of matrix arithmetic, we could define them using for loops:"
   ]
  },
  {
   "cell_type": "code",
   "execution_count": 4,
   "metadata": {},
   "outputs": [],
   "source": [
    "def dCdt_loop(C, S, u, l, pR, R):\n",
    "    N = C.shape[0]\n",
    "    M = S.shape[0]\n",
    "    \n",
    "    dC_dt = np.zeros(N)\n",
    "    lsum = np.sum(l, axis=1)\n",
    "    for i in range(N):\n",
    "        term1 = 0\n",
    "        for j in range(M):\n",
    "            term1 += u[i, j] * S[j] * (1 - pR[j] - lsum[j])\n",
    "        dC_dt[i] = C[i] * (term1 - R[i])\n",
    "    return dC_dt\n",
    "        \n",
    "\n",
    "def dSdt_loop(C, S, u, l, rho):\n",
    "    N = C.shape[0]\n",
    "    M = S.shape[0]\n",
    "    \n",
    "    dS_dt = np.zeros(M)\n",
    "    for j in range(M):\n",
    "        SCu = 0\n",
    "        for i in range(N):\n",
    "            CSul = 0\n",
    "            for k in range(M):\n",
    "                CSul += C[i] * S[k] * u[i, k] * l[k, j]\n",
    "            SCu += S[j] * C[i] * u[i, j] - CSul\n",
    "        dS_dt[j] = rho[j] - SCu\n",
    "    return dS_dt"
   ]
  },
  {
   "cell_type": "markdown",
   "metadata": {},
   "source": [
    "It should be immediately clear why this system might be a good candidate for vectorisation - look at those all those nested loops! Now consider that this is just for calculating the change in $C$ and in $S$ at each timestep, and you can see how simulating this whole system over many timesteps with the loop approach could get very painful if the number of bacterial species $N$ and/or carbon sources $M$ is large.\n",
    "\n",
    "Luckily, since all of the above are matrix operations, we can vectorise the functions with Numpy:"
   ]
  },
  {
   "cell_type": "code",
   "execution_count": 5,
   "metadata": {},
   "outputs": [],
   "source": [
    "def dCdt_vect(C, S, u, l, pR, R):\n",
    "    Sl = (u - pR - np.sum(l, axis=1)) * S\n",
    "    uSl = np.sum(Sl * u, axis=1) - R\n",
    "    dCdt = C * uSl\n",
    "    return dCdt\n",
    "\n",
    "def dSdt_vect(C, S, u, l, rho):\n",
    "    return rho - np.multiply((C @ u).transpose(), S) + np.einsum('i,k,ik,kj->j', C, S, u, l)"
   ]
  },
  {
   "cell_type": "markdown",
   "metadata": {},
   "source": [
    "Do not panic if you can't easily interpret these numpy expressions! This is a relatively complex example and if you aren't familiar with the relevant linear algebra then it will seem much spookier than it truly is. The point of this example is to show a real-world scenario in which vectorising code will generate much quicker results, hopefully with the idea of motivating you to look into vectorising your own code in your own research."
   ]
  },
  {
   "cell_type": "markdown",
   "metadata": {},
   "source": [
    "### Comparing the loop and vectorised models:\n",
    "\n",
    "We will now run two simulations of our system of bacteria and carbon sources. The initial values and all equation parameters will be identical - the only difference will be that one will be run with the loop functions, and the other with the vectorised functions. We will compare the outputs (to make sure they are the same!) and the execution times.\n",
    "\n",
    "First we will import some extra functions and set up the simulation parameters."
   ]
  },
  {
   "cell_type": "code",
   "execution_count": 17,
   "metadata": {},
   "outputs": [],
   "source": [
    "from scipy.integrate import odeint\n",
    "import matplotlib.pylab as pie\n",
    "import time\n",
    "\n",
    "# set up simulation parameters\n",
    "N = 200\n",
    "M = 100\n",
    "\n",
    "u = np.zeros([N,M])\n",
    "np.fill_diagonal(u,1)\n",
    "\n",
    "R = np.full([N], (0.3))\n",
    "\n",
    "pR = np.full([M], (0.1))\n",
    "\n",
    "l = np.zeros([M,M])\n",
    "for i in range(M-1):\n",
    "    l[i,i+1] = 0.3\n",
    "\n",
    "rho = np.zeros(M)\n",
    "\n",
    "t = np.linspace(0,100,101)\n",
    "\n",
    "x0 = np.concatenate((np.full([N], (0.1)),np.full([M], (1.0))))  # initial values for C and S\n",
    "\n",
    "\n",
    "\n",
    "def model_loop(pops, t, N, M):\n",
    "    x = pops\n",
    "    C = x[0:N] # consumer\n",
    "    S = x[N:N+M] # resources\n",
    "    \n",
    "    dCdt = dCdt_loop(C, S, u, l, pR, R)\n",
    "    dSdt = dSdt_loop(C, S, u, l, rho)\n",
    "    return np.array(np.concatenate((dCdt, dSdt)))\n",
    "\n",
    "\n",
    "def model_vect(pops, t, N, M):\n",
    "    x = pops\n",
    "    \n",
    "    C = x[0:N] # consumer\n",
    "    S = x[N:N+M] # resources\n",
    "    \n",
    "    dCdt = dCdt_vect(C, S, u, l, pR, R)\n",
    "    dSdt = dSdt_vect(C, S, u, l, rho)\n",
    "\n",
    "    return np.array(np.concatenate((dCdt, dSdt)))"
   ]
  },
  {
   "cell_type": "markdown",
   "metadata": {},
   "source": [
    "Now run the two simulations:\n",
    "\n",
    "## WARNING: THIS WILL TAKE TIME.\n",
    "\n",
    "Expect the cell to execute for at least 5 minutes. Go and make a cup of tea while you wait. If it takes longer than 10 minutes then interrupt the cell with the stop button at the top of the notebook window, and try running with N = 50, M = 25 instead. "
   ]
  },
  {
   "cell_type": "code",
   "execution_count": 7,
   "metadata": {},
   "outputs": [
    {
     "ename": "KeyboardInterrupt",
     "evalue": "",
     "output_type": "error",
     "traceback": [
      "\u001b[0;31m---------------------------------------------------------------------------\u001b[0m",
      "\u001b[0;31mKeyboardInterrupt\u001b[0m                         Traceback (most recent call last)",
      "\u001b[0;32m<ipython-input-7-f01cc93fc521>\u001b[0m in \u001b[0;36m<module>\u001b[0;34m()\u001b[0m\n\u001b[1;32m      3\u001b[0m \u001b[0;31m# # loop model\u001b[0m\u001b[0;34m\u001b[0m\u001b[0;34m\u001b[0m\u001b[0m\n\u001b[1;32m      4\u001b[0m \u001b[0mstarttime\u001b[0m \u001b[0;34m=\u001b[0m \u001b[0mtime\u001b[0m\u001b[0;34m.\u001b[0m\u001b[0mtime\u001b[0m\u001b[0;34m(\u001b[0m\u001b[0;34m)\u001b[0m\u001b[0;34m\u001b[0m\u001b[0m\n\u001b[0;32m----> 5\u001b[0;31m \u001b[0mpops_loop\u001b[0m \u001b[0;34m=\u001b[0m \u001b[0modeint\u001b[0m\u001b[0;34m(\u001b[0m\u001b[0mmodel_loop\u001b[0m\u001b[0;34m,\u001b[0m \u001b[0my0\u001b[0m\u001b[0;34m=\u001b[0m\u001b[0mx0\u001b[0m\u001b[0;34m,\u001b[0m \u001b[0mt\u001b[0m\u001b[0;34m=\u001b[0m\u001b[0mt\u001b[0m\u001b[0;34m,\u001b[0m \u001b[0margs\u001b[0m\u001b[0;34m=\u001b[0m\u001b[0;34m(\u001b[0m\u001b[0mN\u001b[0m\u001b[0;34m,\u001b[0m \u001b[0mM\u001b[0m\u001b[0;34m)\u001b[0m\u001b[0;34m)\u001b[0m\u001b[0;34m\u001b[0m\u001b[0m\n\u001b[0m\u001b[1;32m      6\u001b[0m \u001b[0mtime_loop\u001b[0m \u001b[0;34m=\u001b[0m \u001b[0mtime\u001b[0m\u001b[0;34m.\u001b[0m\u001b[0mtime\u001b[0m\u001b[0;34m(\u001b[0m\u001b[0;34m)\u001b[0m \u001b[0;34m-\u001b[0m \u001b[0mstarttime\u001b[0m\u001b[0;34m\u001b[0m\u001b[0m\n\u001b[1;32m      7\u001b[0m \u001b[0;34m\u001b[0m\u001b[0m\n",
      "\u001b[0;32m~/anaconda3/lib/python3.6/site-packages/scipy/integrate/odepack.py\u001b[0m in \u001b[0;36modeint\u001b[0;34m(func, y0, t, args, Dfun, col_deriv, full_output, ml, mu, rtol, atol, tcrit, h0, hmax, hmin, ixpr, mxstep, mxhnil, mxordn, mxords, printmessg)\u001b[0m\n\u001b[1;32m    213\u001b[0m     output = _odepack.odeint(func, y0, t, args, Dfun, col_deriv, ml, mu,\n\u001b[1;32m    214\u001b[0m                              \u001b[0mfull_output\u001b[0m\u001b[0;34m,\u001b[0m \u001b[0mrtol\u001b[0m\u001b[0;34m,\u001b[0m \u001b[0matol\u001b[0m\u001b[0;34m,\u001b[0m \u001b[0mtcrit\u001b[0m\u001b[0;34m,\u001b[0m \u001b[0mh0\u001b[0m\u001b[0;34m,\u001b[0m \u001b[0mhmax\u001b[0m\u001b[0;34m,\u001b[0m \u001b[0mhmin\u001b[0m\u001b[0;34m,\u001b[0m\u001b[0;34m\u001b[0m\u001b[0m\n\u001b[0;32m--> 215\u001b[0;31m                              ixpr, mxstep, mxhnil, mxordn, mxords)\n\u001b[0m\u001b[1;32m    216\u001b[0m     \u001b[0;32mif\u001b[0m \u001b[0moutput\u001b[0m\u001b[0;34m[\u001b[0m\u001b[0;34m-\u001b[0m\u001b[0;36m1\u001b[0m\u001b[0;34m]\u001b[0m \u001b[0;34m<\u001b[0m \u001b[0;36m0\u001b[0m\u001b[0;34m:\u001b[0m\u001b[0;34m\u001b[0m\u001b[0m\n\u001b[1;32m    217\u001b[0m         \u001b[0mwarning_msg\u001b[0m \u001b[0;34m=\u001b[0m \u001b[0m_msgs\u001b[0m\u001b[0;34m[\u001b[0m\u001b[0moutput\u001b[0m\u001b[0;34m[\u001b[0m\u001b[0;34m-\u001b[0m\u001b[0;36m1\u001b[0m\u001b[0;34m]\u001b[0m\u001b[0;34m]\u001b[0m \u001b[0;34m+\u001b[0m \u001b[0;34m\" Run with full_output = 1 to get quantitative information.\"\u001b[0m\u001b[0;34m\u001b[0m\u001b[0m\n",
      "\u001b[0;32m<ipython-input-6-8f997a034596>\u001b[0m in \u001b[0;36mmodel_loop\u001b[0;34m(pops, t, N, M)\u001b[0m\n\u001b[1;32m     32\u001b[0m \u001b[0;34m\u001b[0m\u001b[0m\n\u001b[1;32m     33\u001b[0m     \u001b[0mdCdt\u001b[0m \u001b[0;34m=\u001b[0m \u001b[0mdCdt_loop\u001b[0m\u001b[0;34m(\u001b[0m\u001b[0mC\u001b[0m\u001b[0;34m,\u001b[0m \u001b[0mS\u001b[0m\u001b[0;34m,\u001b[0m \u001b[0mu\u001b[0m\u001b[0;34m,\u001b[0m \u001b[0ml\u001b[0m\u001b[0;34m,\u001b[0m \u001b[0mpR\u001b[0m\u001b[0;34m,\u001b[0m \u001b[0mR\u001b[0m\u001b[0;34m)\u001b[0m\u001b[0;34m\u001b[0m\u001b[0m\n\u001b[0;32m---> 34\u001b[0;31m     \u001b[0mdSdt\u001b[0m \u001b[0;34m=\u001b[0m \u001b[0mdSdt_loop\u001b[0m\u001b[0;34m(\u001b[0m\u001b[0mC\u001b[0m\u001b[0;34m,\u001b[0m \u001b[0mS\u001b[0m\u001b[0;34m,\u001b[0m \u001b[0mu\u001b[0m\u001b[0;34m,\u001b[0m \u001b[0ml\u001b[0m\u001b[0;34m,\u001b[0m \u001b[0mrho\u001b[0m\u001b[0;34m)\u001b[0m\u001b[0;34m\u001b[0m\u001b[0m\n\u001b[0m\u001b[1;32m     35\u001b[0m     \u001b[0;32mreturn\u001b[0m \u001b[0mnp\u001b[0m\u001b[0;34m.\u001b[0m\u001b[0marray\u001b[0m\u001b[0;34m(\u001b[0m\u001b[0mnp\u001b[0m\u001b[0;34m.\u001b[0m\u001b[0mconcatenate\u001b[0m\u001b[0;34m(\u001b[0m\u001b[0;34m(\u001b[0m\u001b[0mdCdt\u001b[0m\u001b[0;34m,\u001b[0m \u001b[0mdSdt\u001b[0m\u001b[0;34m)\u001b[0m\u001b[0;34m)\u001b[0m\u001b[0;34m)\u001b[0m\u001b[0;34m\u001b[0m\u001b[0m\n\u001b[1;32m     36\u001b[0m \u001b[0;34m\u001b[0m\u001b[0m\n",
      "\u001b[0;32m<ipython-input-4-3e345be64a03>\u001b[0m in \u001b[0;36mdSdt_loop\u001b[0;34m(C, S, u, l, rho)\u001b[0m\n\u001b[1;32m     23\u001b[0m             \u001b[0mCSul\u001b[0m \u001b[0;34m=\u001b[0m \u001b[0;36m0\u001b[0m\u001b[0;34m\u001b[0m\u001b[0m\n\u001b[1;32m     24\u001b[0m             \u001b[0;32mfor\u001b[0m \u001b[0mk\u001b[0m \u001b[0;32min\u001b[0m \u001b[0mrange\u001b[0m\u001b[0;34m(\u001b[0m\u001b[0mM\u001b[0m\u001b[0;34m)\u001b[0m\u001b[0;34m:\u001b[0m\u001b[0;34m\u001b[0m\u001b[0m\n\u001b[0;32m---> 25\u001b[0;31m                 \u001b[0mCSul\u001b[0m \u001b[0;34m+=\u001b[0m \u001b[0mC\u001b[0m\u001b[0;34m[\u001b[0m\u001b[0mi\u001b[0m\u001b[0;34m]\u001b[0m \u001b[0;34m*\u001b[0m \u001b[0mS\u001b[0m\u001b[0;34m[\u001b[0m\u001b[0mk\u001b[0m\u001b[0;34m]\u001b[0m \u001b[0;34m*\u001b[0m \u001b[0mu\u001b[0m\u001b[0;34m[\u001b[0m\u001b[0mi\u001b[0m\u001b[0;34m,\u001b[0m \u001b[0mk\u001b[0m\u001b[0;34m]\u001b[0m \u001b[0;34m*\u001b[0m \u001b[0ml\u001b[0m\u001b[0;34m[\u001b[0m\u001b[0mk\u001b[0m\u001b[0;34m,\u001b[0m \u001b[0mj\u001b[0m\u001b[0;34m]\u001b[0m\u001b[0;34m\u001b[0m\u001b[0m\n\u001b[0m\u001b[1;32m     26\u001b[0m             \u001b[0mSCu\u001b[0m \u001b[0;34m+=\u001b[0m \u001b[0mS\u001b[0m\u001b[0;34m[\u001b[0m\u001b[0mj\u001b[0m\u001b[0;34m]\u001b[0m \u001b[0;34m*\u001b[0m \u001b[0mC\u001b[0m\u001b[0;34m[\u001b[0m\u001b[0mi\u001b[0m\u001b[0;34m]\u001b[0m \u001b[0;34m*\u001b[0m \u001b[0mu\u001b[0m\u001b[0;34m[\u001b[0m\u001b[0mi\u001b[0m\u001b[0;34m,\u001b[0m \u001b[0mj\u001b[0m\u001b[0;34m]\u001b[0m \u001b[0;34m-\u001b[0m \u001b[0mCSul\u001b[0m\u001b[0;34m\u001b[0m\u001b[0m\n\u001b[1;32m     27\u001b[0m         \u001b[0mdS_dt\u001b[0m\u001b[0;34m[\u001b[0m\u001b[0mj\u001b[0m\u001b[0;34m]\u001b[0m \u001b[0;34m=\u001b[0m \u001b[0mrho\u001b[0m\u001b[0;34m[\u001b[0m\u001b[0mj\u001b[0m\u001b[0;34m]\u001b[0m \u001b[0;34m-\u001b[0m \u001b[0mSCu\u001b[0m\u001b[0;34m\u001b[0m\u001b[0m\n",
      "\u001b[0;31mKeyboardInterrupt\u001b[0m: "
     ]
    }
   ],
   "source": [
    "plt.close('all')\n",
    "\n",
    "# # loop model\n",
    "starttime = time.time()\n",
    "pops_loop = odeint(model_loop, y0=x0, t=t, args=(N, M))\n",
    "time_loop = time.time() - starttime\n",
    "\n",
    "# vectorised model\n",
    "starttime = time.time()\n",
    "pops_vect = odeint(model_vect, y0=x0, t=t, args=(N, M))\n",
    "time_vect = time.time() - starttime\n",
    "\n",
    "print(\"Loop model took %6.3f s.\" %time_loop)\n",
    "print(\"Vectorised model took %6.3f s.\" %time_vect)\n",
    "\n",
    "fig = plt.figure(figsize=(15,10))\n",
    "ax1 = fig.add_subplot(121)\n",
    "ax1.plot(t, pops_loop[:,0], 'g-', label = 'Resources (loop)', linewidth=0.7)\n",
    "ax1.plot(t, pops_loop[:,N], 'b-', label = 'Consumers (loop)', linewidth=0.7)\n",
    "ax1.plot(t, pops_loop[:,0:N], 'g-', linewidth=0.7)\n",
    "ax1.plot(t, pops_loop[:,N:N+M], 'b-', linewidth=0.7)\n",
    "ax1.legend()\n",
    "ax1.grid\n",
    "ax1.set_ylabel('Population density')\n",
    "ax1.set_xlabel('Time')\n",
    "ax1.set_title('LOOP MODEL')\n",
    "\n",
    "ax2 = fig.add_subplot(122)\n",
    "ax2.plot(t, pops_vect[:,0], 'g--', label = 'Resources (vect)', linewidth=0.7)\n",
    "ax2.plot(t, pops_vect[:,N], 'b--', label = 'Consumers (vect)', linewidth=0.7)\n",
    "ax2.plot(t, pops_vect[:,0:N], 'g--', linewidth=0.7)\n",
    "ax2.plot(t, pops_vect[:,N:N+M], 'b--', linewidth=0.7)\n",
    "ax2.legend()\n",
    "ax2.grid\n",
    "ax2.set_ylabel('Population density')\n",
    "ax2.set_xlabel('Time')\n",
    "ax2.set_title('VECTORISED MODEL')"
   ]
  },
  {
   "cell_type": "markdown",
   "metadata": {},
   "source": [
    "We can see from the plots that the outputs of the two models are identical, but the execution time varies dramatically. Imagine we wanted to run these models a large number of times with varying initial conditions and/or parameters, to see how our populations would behave and evolve under different environmental conditions. Running just 10 simulations in loop-mode would take close to an hour, whereas in vectorised mode we could run hundreds of simulations in mere minutes."
   ]
  },
  {
   "cell_type": "markdown",
   "metadata": {},
   "source": [
    "# When to vectorise?\n",
    "\n",
    "We have seen that vectorising your code can have it running in a fraction of the time it otherwise would - why not always vectorise then?\n",
    "\n",
    "Generally, you should follow the same principles as with any code profiling...don't spend time speeding up code that isn't slow in the first place, or code which you will probably not need to run more than a small number of times.\n",
    "\n",
    "## \"No free lunch!\"\n",
    "\n",
    "There are trade-offs to vectorising, most notably memory useage. One downsides of calculating many steps simultaneously is that your computer needs to hold much more in memory in order to do it. If you try to vectorise a problem thats *too* large, you will probably run into memory errors. One easy example is to re-run example 1 above, but **even bigger**:"
   ]
  },
  {
   "cell_type": "code",
   "execution_count": 10,
   "metadata": {},
   "outputs": [
    {
     "data": {
      "text/plain": [
       "array([0.62795691, 0.13196955, 0.02004608, ..., 0.29443425, 0.26235812,\n",
       "       0.20569663])"
      ]
     },
     "execution_count": 10,
     "metadata": {},
     "output_type": "execute_result"
    }
   ],
   "source": [
    "N = 1000000000\n",
    "\n",
    "a = np.random.rand(N)\n",
    "b = np.random.rand(N)\n",
    "c = vect_product(a, b)\n",
    "\n",
    "# if no error, remove a, b, c from memory.\n",
    "del a\n",
    "del b\n",
    "del c"
   ]
  },
  {
   "cell_type": "markdown",
   "metadata": {},
   "source": [
    "This will almost certainly return a memory error (i.e. your computer ran out of RAM in which to store the entire of the very large arrays $a$, $b$ and $c$ while it was still calculating (if you didnt get an error, try again with an extra 0 in $N$).\n",
    "\n",
    "Again, this is a rather contrived example - you probably won't be taking element-wise products of arrays with a billion entries in your research - but more complex problems can easily become too big for memory while still remaining biologically reasonable!<sup>[3]</sup>\n",
    "\n",
    "## When *can* you vectorise?\n",
    "\n",
    "Note that not every system is vectorisable! You cannot generally vectorise a loop over time, for example. In our example 2 above, we vectorised everything that happens *within* a given timestep, but computing the future state of the system using its current state we did not vectorise (in fact `odeint` did this bit for us, but it still had to do it timestep-by-timestep).\n",
    "\n",
    "This makes sense - imagine trying to simulate a resource-consumer model like ours above at some timesteps $(t_0, t_1, t_2,...)$. You can't start computing the population sizes in any order you like, since the state at each $t_n$ depends on the state before it -- you have to start with $t_1$, then $t_2$, and so on in numerical order.\n",
    "\n",
    "[3] Check out the CMEE course on High Performance Computing to learn about using Imperial's supercomputing cluster to run extremely large problems."
   ]
  }
 ],
 "metadata": {
  "kernelspec": {
   "display_name": "Python 3",
   "language": "python",
   "name": "python3"
  },
  "language_info": {
   "codemirror_mode": {
    "name": "ipython",
    "version": 3
   },
   "file_extension": ".py",
   "mimetype": "text/x-python",
   "name": "python",
   "nbconvert_exporter": "python",
   "pygments_lexer": "ipython3",
   "version": "3.5.2"
  },
  "latex_envs": {
   "LaTeX_envs_menu_present": true,
   "autoclose": false,
   "autocomplete": false,
   "bibliofile": "biblio.bib",
   "cite_by": "apalike",
   "current_citInitial": 1,
   "eqLabelWithNumbers": true,
   "eqNumInitial": 1,
   "hotkeys": {
    "equation": "Ctrl-E",
    "itemize": "Ctrl-I"
   },
   "labels_anchors": false,
   "latex_user_defs": false,
   "report_style_numbering": false,
   "user_envs_cfg": false
  },
  "toc": {
   "base_numbering": 1,
   "nav_menu": {},
   "number_sections": true,
   "sideBar": false,
   "skip_h1_title": false,
   "title_cell": "Contents",
   "title_sidebar": "Contents",
   "toc_cell": true,
   "toc_position": {},
   "toc_section_display": true,
   "toc_window_display": false
  }
 },
 "nbformat": 4,
 "nbformat_minor": 2
}
