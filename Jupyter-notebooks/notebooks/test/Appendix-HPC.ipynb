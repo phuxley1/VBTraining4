{
 "cells": [
  {
   "cell_type": "markdown",
   "metadata": {},
   "source": [
    "<!--NAVIGATION-->\n",
    "| [Main Contents](Index.ipynb)|"
   ]
  },
  {
   "cell_type": "markdown",
   "metadata": {},
   "source": [
    "# High Performance Computing <span class=\"tocSkip\">` "
   ]
  },
  {
   "cell_type": "markdown",
   "metadata": {
    "toc": true
   },
   "source": [
    "<h1>Contents<span class=\"tocSkip\"></span></h1>\n",
    "<div class=\"toc\"><ul class=\"toc-item\"><li><span><a href=\"#Local-parallel-processing\" data-toc-modified-id=\"Local-parallel-processing-1\">Local parallel processing</a></span><ul class=\"toc-item\"><li><span><a href=\"#Threading-vs.-multiprocessing\" data-toc-modified-id=\"Threading-vs.-multiprocessing-1.1\">Threading vs. multiprocessing</a></span></li></ul></li><li><span><a href=\"#Running-python-scripts-on-IC-HPC\" data-toc-modified-id=\"Running-python-scripts-on-IC-HPC-2\">Running python scripts on IC HPC</a></span><ul class=\"toc-item\"><li><span><a href=\"#Preparing-the-scripts-for-running-on-the-HPC\" data-toc-modified-id=\"Preparing-the-scripts-for-running-on-the-HPC-2.1\">Preparing the scripts for running on the HPC</a></span></li><li><span><a href=\"#Copying-scripts-from-your-computer-to-the-HPC-server\" data-toc-modified-id=\"Copying-scripts-from-your-computer-to-the-HPC-server-2.2\">Copying scripts from your computer to the HPC server</a></span></li><li><span><a href=\"#Running-the-scripts\" data-toc-modified-id=\"Running-the-scripts-2.3\">Running the scripts</a></span></li><li><span><a href=\"#Using-a-python-script-to-submit-jobs\" data-toc-modified-id=\"Using-a-python-script-to-submit-jobs-2.4\">Using a python script to submit jobs</a></span></li></ul></li><li><span><a href=\"#Readings-&amp;-Resources\" data-toc-modified-id=\"Readings-&amp;-Resources-3\">Readings &amp; Resources</a></span></li></ul></div>"
   ]
  },
  {
   "cell_type": "markdown",
   "metadata": {},
   "source": [
    "This chapter introduces you to HPC in Python, including use of the [Imperial College HPC](https://wiki.imperial.ac.uk/display/HPC/High+Performance+Computing).\n",
    "\n",
    "## Local parallel processing\n",
    "\n",
    "Note that there are a number of ways in which you can develop HPC implementations for your code locally (on your own computer). We will not cover these, but here is a list of particularly useful approaches/tools:\n",
    "\n",
    "* [Ipython `parallel`](https://ipython.org/ipython-doc/3/parallel)\n",
    "\n",
    "* Multi-threading, using the [`threading` package](https://docs.python.org/3/library/threading.html)\n",
    "\n",
    "* Using multiple processors with the [`multiprocessing` package](https://docs.python.org/2/library/multiprocessing.html)\n",
    "\n",
    "### Threading vs. multiprocessing\n",
    "\n",
    "The difference between threading and multiprocessing is that threads share the same memory allocation, while processes have separate memory allocations. This makes it a harder to share information between processes with multiprocessing, but this is till a useful approach for quick and dirty parallelization. When better communication between processes is required, sophisticated solutions such as MPI and OpenMP may be needed. The MPI (Message Passing Interface) standard/protocol can be used in Python to parallelize your code over multiple processors through the [`mpi4py` package]\n",
    "(http://mpi4py.scipy.org/docs/usrman/index.html). You can also parallelize numpy array loops with [`cython` and OpenMP](http://www.perrygeo.com/parallelizing-numpy-array-loops-with-cython-and-mpi.html).\n",
    "\n",
    "## Running python scripts on IC HPC\n",
    "\n",
    "*These instructions also apply, with suitable modifications, for R scripts.*\n",
    "\n",
    "### Preparing the scripts for running on the HPC\n",
    "\n",
    "The script you will run needs a sha-bang (telling it what shell to run, usually bash), you need to allocate resources to PBS (such as walltime, number of processors, and memory , using the `#PBS` directive), and tell it what Python script to run. The bash script could\n",
    "look something like this:"
   ]
  },
  {
   "cell_type": "markdown",
   "metadata": {},
   "source": [
    "```bash\n",
    "#!/bin/bash\n",
    "\n",
    "#lines declaring parameters to request from HPC:\n",
    "\n",
    "## tell the batch manager to limit the walltime for the job to given hh:mm:ss\n",
    "#PBS -l walltime=06:30:00 \n",
    "\n",
    "## tell the batch manager to use 1 node with 1 cpu (total 1*1 cpus) and 4000mb of memory per node\n",
    "#PBS -l select=1:ncpus=1:mem=4000mb\n",
    "## *NOTE: serial jobs do not require a number of cpus*\n",
    "\n",
    "## Name your job (optional, but can be convenient)\n",
    "#PBS -N Py_test_1\n",
    "\n",
    "## setup to get an email when scripts starts and ends (or aborts) \n",
    "#PBS -m abe \n",
    "## Look up man qsub for what the options a,b,e do\n",
    "\n",
    "## Specify email address (multiple addresses can be set; look up man qsub)\n",
    "#PBS -M your.email@imperial.ac.uk\n",
    "\n",
    "# Load python as engine; default is 2.7.3 change version from 2.7.3 if \n",
    "## needed (python 3 is supported)\n",
    "module load python/2.7.3\n",
    "\n",
    "# general tools\n",
    "module load intel-suite\n",
    "## Intel math kernel must be loaded at run time for compiling etc. \n",
    "\n",
    "echo \"Python is about to run\"\n",
    "\n",
    "python < $WORK/TestPyHPC/MyHPCScript.py\n",
    "## tells the batch manager to execute MyHPCScript.py in \n",
    "## TestPyHPC using python\n",
    "\n",
    "# mv the output file result*\n",
    "echo \"Moving output files\"\n",
    "mv result* $WORK/TestPyHPC/output/\n",
    "\n",
    "echo \"Python has finished running\"\n",
    "\n",
    "```"
   ]
  },
  {
   "cell_type": "markdown",
   "metadata": {},
   "source": [
    "Or, you can do something like this to move all files one-by-one to avoid exceeding memory allocation (`.p` indicates that you used `pickle` to dump results):\n",
    "\n",
    "```bash\n",
    "for f in *.p; do\n",
    "    echo \"Processing $f...\"\n",
    "    mv $f $WORK/TestPyHPC/output/\n",
    "done\n",
    "```\n",
    "\n",
    "Note that to use python 3, you will need [Anaconda](https://www.imperial.ac.uk/admin-services/ict/self-service/research-support/rcs/support/applications/python). \n",
    "\n",
    "NOTE: Most of the cx1 nodes have multiple cores, so there's no fixed memory assigned to each core. If you use more memory than your request on your `#PBS` directive, your job is likely to be terminated. If you request more memory than is available, the job will remain queued until sufficient memory is free for the job to run.\n",
    "\n",
    "Your HPC enabled Python code could look like this:"
   ]
  },
  {
   "cell_type": "markdown",
   "metadata": {},
   "source": [
    "```python\n",
    "# -*- coding: utf-8 -*-\n",
    "\"\"\"\n",
    "Created on Wed Nov 02 16:20:48 2017\n",
    "\n",
    "@author: Samraat Pawar\n",
    "\n",
    "\"\"\"\n",
    "import os # to get environment variables\n",
    "\n",
    "home <- os.getenv('HOME')\n",
    "\n",
    "i = int(os.getenv(\"PBS_ARRAY_INDEX\"))\n",
    "\n",
    "####Functions block start ####\n",
    "def do_simulation(ar1, arg2, etc):\n",
    "\tresults = ...\n",
    "\treturn results\n",
    "#### Functions block end ####\n",
    "\n",
    "do_simulation(i)\n",
    "\n",
    "save(results, file='home/MyProject/results_HPC.csv')\n",
    "```\n",
    "Note the lines in this Python code where you the environment so that it knows the working directory and where to output files.\n",
    "\n",
    "### Copying scripts from your computer to the HPC server\n",
    "\n",
    "Then, secure copy bash script file to `\\$HOME` on HPC server using scp: \n",
    "\n",
    "`scp source host:destination` \n",
    "\n",
    "Fore example, \n",
    "\n",
    "`scp script.sh user@login.cx1.hpc.ic.ac.uk:/home/user/whatever/script.sh`"
   ]
  },
  {
   "cell_type": "markdown",
   "metadata": {},
   "source": [
    "### Running the scripts\n",
    "\n",
    "Open a secure shell (ssh):\n",
    "\n",
    "`ssh user@login.cx1.hpc.ic.ac.uk`"
   ]
  },
  {
   "cell_type": "markdown",
   "metadata": {},
   "source": [
    "where `user` is your ICL username. You will then be prompted to enter your (ICL) password. Once on the HPC server, check for available modules:\n",
    "\n",
    "`module avail`\n",
    "\n",
    "Your job then needs to be queued using `qsub` (PBS):\n",
    "\n",
    "`qsub -j eo script.sh`\n",
    "\n",
    "where `-j eo` is an option to join both output and error into one file. Running the script w ll produce a job output (anything that is printed in the shell terminal (e.g. `echo`)), an  an error file (related to whether the script was successful or not), in the form\n",
    "of `{scriptname}.o{job id}` and `{scriptname}.e{jobid}.`\n",
    "\n",
    "The `qstat` command provides information on the job being submitted (which queue (short, medium, long), status, etc.) as well as information on all queues available (-q, -Q).\n",
    "\n",
    "### Using a python script to submit jobs\n",
    "\n",
    "PBS also allows you to submit jobs using a Python (instead of shell) script. Look up the `qsub` manual (`man qsub`) in the HPC terminal, or [see this](https://gist.github.com/nobias/5b2373258e595e5242d5).\n",
    "\n",
    "For example, the Python job script named \"MyHPCPy.py\" for a job named \"HelloJob\" prints \"Hello\":\n",
    "\n",
    "```python\n",
    "#!/usr/bin/python\n",
    "#PBS -l select=1:ncpus=3:mem=1gb\n",
    "#PBS -N HelloJob\n",
    "print \"Hello\"\n",
    "```\n",
    "\n",
    "To run a Python job script you would do the same a for a bash job script above:\n",
    "\n",
    "`qsub MyHPCPy.py`"
   ]
  },
  {
   "cell_type": "markdown",
   "metadata": {},
   "source": [
    "## Conda Environments\n",
    "The Imperial HPC system is easiest to manage when you are using [conda](https://www.imperial.ac.uk/admin-services/ict/self-service/research-support/rcs/support/applications/conda/). Conda is a package management and virtual environment system, similar to `venv` in native python.\n",
    "\n",
    "### Intro\n",
    "There are many advantages to using a package management system in python, but to explain it best, let's give an example:\n",
    "Say you are a sith lord working on two projects at the same time. You started the first one called `RotJ.py` a while back, and you were using the package `force` version 0.6. `force 0.6` contains some useful functions to make your code work, including one called `force_strength()` which took one argument, the subject you were testing. This was a massive project containing thousands of lines of code, with calls to `force_strength()` all over.\n",
    "\n",
    "Later on you started a new project, called `tPM.py`. Since you started on `RotJ.py`, `force` has now been updated to version 1.1, which introduced a new way to calculate `force_strength()`. Now the subject is required to have a midichlorians count passed along with the subject reference itself. This greatly speeds up calculations involving force, but it also entirely breaks anything designed to work using the old version. Here's some dummy code for the two projects, just to illustrate.\n",
    "\n",
    "**RotJ.py**\n",
    "```python\n",
    "#!/usr/bin/env python\n",
    "# RotJ.py\n",
    "\n",
    "import force\n",
    "from lore import luke\n",
    "\n",
    "print(force.force_strength(luke))\n",
    "```\n",
    "\n",
    "**tPM.py**\n",
    "```python\n",
    "#!/usr/bin/env python\n",
    "# tPM.py\n",
    "\n",
    "import force\n",
    "from lore import annikin\n",
    "\n",
    "m = force.detect_midichlorians(annikin, side=\"dark\")\n",
    "\n",
    "print(force.force_strength(annikin, m))\n",
    "```\n",
    "\n",
    "Now, we've hit a serious issue. As we updated to `force` version 1.1, `force_strength()` now takes 2 required arguments. When we run `RotJ.py` we get the following error:\n",
    "`TypeError: force.force_strength() missing 1 required positional argument: 'midichlorians'`\n",
    "\n",
    "But if we downgrade to `force` v0.6, we lose all the benefits of the new method to detect force (which was providing a 500% speedup to our code!)\n",
    "\n",
    "So what can we do? How can have two versions of the same module at once?"
   ]
  },
  {
   "cell_type": "markdown",
   "metadata": {},
   "source": [
    "### Introducing: conda environments\n",
    "Conda environments allow us to have multiple environments of python present on a system, each with their own package versions and dependencies independent of any other installation. With the right setup we can run development for both of these projects simaltaneously, switching between the two environments with a simple command (detailed later).\n"
   ]
  },
  {
   "cell_type": "markdown",
   "metadata": {},
   "source": [
    "### First time conda setup\n",
    "First of all we need to set up conda on the HPC. Login to the HPC as usual and enter the following:\n",
    "```bash\n",
    "module load anaconda3/personal\n",
    "anaconda-setup\n",
    "```\n",
    "This will set up conda (as part of anaconda) for the first time. Any other time you wish to use conda, just run `module load anaconda3/personal` when you log in to the HPC."
   ]
  },
  {
   "cell_type": "markdown",
   "metadata": {},
   "source": [
    "### Creating a new conda environment\n",
    "The power of conda resides in its modular environments.\n",
    "\n",
    "To set up a new python 3.6 environment named **prequel_trilogy**, enter:\n",
    "```bash\n",
    "conda create --name prequel_trilogy python=3.6\n",
    "```\n",
    "\n",
    "You can view which environments are present using `conda env list`:\n",
    "```\n",
    "-bash-4.2$ conda env list\n",
    "\n",
    "# conda environments:\n",
    "#\n",
    "prequel_trilogy          /home/username/anaconda3/envs/prequel_trilogy\n",
    "root                  *  /home/username/anaconda3\n",
    "\n",
    "```\n",
    "\n",
    "Right now the `*` shows that the root environment is active, however we would like to install a few packages in our new environment."
   ]
  },
  {
   "cell_type": "markdown",
   "metadata": {},
   "source": [
    "### Activating a conda environment\n",
    "To work using a conda environment, you must first activate it. In our case we should activate prequel_trilogy using the command:\n",
    "```\n",
    "source activate prequel_trilogy\n",
    "```\n",
    "This does some fancy magic in the background, and makes it so the `python` command now points to the installation of python present in the new conda environment. As a reminder to you, conda preappends the string `(prequel_trilogy)` to your bash prompt to remind you which conda env you are now using.\n",
    "\n",
    "`(prequel_trilogy) -bash-4.2$ cd $HOME`"
   ]
  },
  {
   "cell_type": "markdown",
   "metadata": {},
   "source": [
    "### Installing packages in conda\n",
    "Once you have activated your conda environment, you may well need to install other python packages.\n",
    "First of all it's probably a good idea to search and see if conda has the package you require in its repository using the command `conda search package` where `package` is the module you want. This will often take a good while and spit out a lot of information to the terminal. To combat this we can use some little bash tricks to make things more managable. For example, we know that we are running python 3.6 in the conda env, so let's do some filtering with `grep`:\n",
    "\n",
    "`conda search pandas | grep py36 --color=none`\n",
    "\n",
    "Once you have located a package, run `conda install` to install it:\n",
    "\n",
    "`conda install pandas`\n",
    "\n",
    "Note that we can also specify versions using the modification:\n",
    "`conda install pandas=1.2`"
   ]
  },
  {
   "cell_type": "markdown",
   "metadata": {},
   "source": [
    "## Bash aliases\n",
    "As with most things you do on linux, there is great scope for bash scripting to make your life a lot easier. Below I've provided a few alias commands you can put in your `.bashrc`/`.bash_aliases` file to speed up your workflow. This isn't the furthest that you can take it though. For instance it'd be rather great to have just one command called `hpc` which would change what it did depending on the arguments given. Maybe you could find a way to make the command `hpc` on its own log you straight in to the cluster, whilst `hpc send path/to/file` could upload to your hpc home directory. Maybe `hpc submit` could submit a job straight from your local command line without ever requiring a login. All of these things **could** be useful, but of course that does depend on whether you are regularly working with the HPC or not.\n",
    "\n",
    "*Remember to replace USERNAME with your own hpc username*\n",
    "\n",
    "### Login\n",
    "`alias hpc='ssh USERNAME@login.cx1.hpc.ic.ac.uk'`\n",
    "\n",
    "### Check run status\n",
    "`alias hpcheck='hpc \"(/opt/pbs/bin/qstat)\"'`\n",
    "\n",
    "### Auto-check run status\n",
    "`alias hpwatch='watch -n 20 -d=cumulative \"ssh USERNAME@login.cx1.hpc.ic.ac.uk \\'(/opt/pbs/bin/qstat)\\'\"'`"
   ]
  },
  {
   "cell_type": "markdown",
   "metadata": {},
   "source": [
    "## Readings & Resources\n",
    "\n",
    "* The [ICL HPC wiki is a very useful resource](https://wiki.imperial.ac.uk/display/HPC/Command+line)\n",
    "* When working with conda, it's always good to consult the [ICL HPC conda page](https://www.imperial.ac.uk/admin-services/ict/self-service/research-support/rcs/support/applications/conda/) and the [conda cheatsheet](https://conda.io/docs/_downloads/conda-cheatsheet.pdf)"
   ]
  }
 ],
 "metadata": {
  "kernelspec": {
   "display_name": "Python 3",
   "language": "python",
   "name": "python3"
  },
  "language_info": {
   "codemirror_mode": {
    "name": "ipython",
    "version": 3
   },
   "file_extension": ".py",
   "mimetype": "text/x-python",
   "name": "python",
   "nbconvert_exporter": "python",
   "pygments_lexer": "ipython3",
   "version": "3.5.2"
  },
  "latex_envs": {
   "LaTeX_envs_menu_present": true,
   "autoclose": false,
   "autocomplete": false,
   "bibliofile": "biblio.bib",
   "cite_by": "apalike",
   "current_citInitial": 1,
   "eqLabelWithNumbers": true,
   "eqNumInitial": 1,
   "hotkeys": {
    "equation": "Ctrl-E",
    "itemize": "Ctrl-I"
   },
   "labels_anchors": false,
   "latex_user_defs": false,
   "report_style_numbering": false,
   "user_envs_cfg": false
  },
  "toc": {
   "base_numbering": 1,
   "nav_menu": {},
   "number_sections": false,
   "sideBar": false,
   "skip_h1_title": false,
   "title_cell": "Contents",
   "title_sidebar": "Contents",
   "toc_cell": true,
   "toc_position": {},
   "toc_section_display": true,
   "toc_window_display": false
  }
 },
 "nbformat": 4,
 "nbformat_minor": 2
}
